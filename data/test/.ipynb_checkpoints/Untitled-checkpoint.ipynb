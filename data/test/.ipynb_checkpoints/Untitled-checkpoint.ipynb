{
 "cells": [
  {
   "cell_type": "code",
   "execution_count": 5,
   "metadata": {},
   "outputs": [],
   "source": [
    "entity = ['p_1', 'p_2', 'a_1', 'a_2', 'jc_1', 'f_1']"
   ]
  },
  {
   "cell_type": "code",
   "execution_count": 6,
   "metadata": {},
   "outputs": [],
   "source": [
    "relation = ['cite', 'written', 'published', 'belong']"
   ]
  },
  {
   "cell_type": "code",
   "execution_count": 7,
   "metadata": {},
   "outputs": [],
   "source": [
    "train = [(0,1,0),(0,2,1),(1,3,1),(0,4,2),(1,4,2),(0,5,3),(1,5,3)]"
   ]
  },
  {
   "cell_type": "code",
   "execution_count": 9,
   "metadata": {},
   "outputs": [
    {
     "name": "stdout",
     "output_type": "stream",
     "text": [
      "p_1 cite p_2\n",
      "p_1 written a_1\n",
      "p_2 written a_2\n",
      "p_1 published jc_1\n",
      "p_2 published jc_1\n",
      "p_1 belong f_1\n",
      "p_2 belong f_1\n"
     ]
    }
   ],
   "source": [
    "for a,b,c in train:\n",
    "    print(entity[a], relation[c], entity[b])"
   ]
  },
  {
   "cell_type": "code",
   "execution_count": 17,
   "metadata": {},
   "outputs": [],
   "source": [
    "import csv\n",
    "\n",
    "with open('entity2id.txt', 'wt') as out_file:\n",
    "    tsv_writer = csv.writer(out_file, delimiter='\\t')\n",
    "    tsv_writer.writerow([len(entity)])\n",
    "    for i, row in enumerate(entity):\n",
    "        tsv_writer.writerow([row, i])"
   ]
  },
  {
   "cell_type": "code",
   "execution_count": 18,
   "metadata": {},
   "outputs": [],
   "source": [
    "with open('relation2id.txt', 'wt') as out_file:\n",
    "    tsv_writer = csv.writer(out_file, delimiter='\\t')\n",
    "    tsv_writer.writerow([len(relation)])\n",
    "    for i, row in enumerate(relation):\n",
    "        tsv_writer.writerow([row, i])"
   ]
  },
  {
   "cell_type": "code",
   "execution_count": 21,
   "metadata": {},
   "outputs": [],
   "source": [
    "with open('train2id.txt', 'wt') as out_file:\n",
    "    tsv_writer = csv.writer(out_file, delimiter=' ')\n",
    "    tsv_writer.writerow([len(train)])\n",
    "    for a,b,c in train:\n",
    "        tsv_writer.writerow([a, b, c])"
   ]
  },
  {
   "cell_type": "code",
   "execution_count": null,
   "metadata": {},
   "outputs": [],
   "source": [
    "with open('valid2id.txt', 'wt') as out_file:\n",
    "    tsv_writer = csv.writer(out_file, delimiter=' ')\n",
    "    tsv_writer.writerow([len(train)])\n",
    "    for a,b,c in train:\n",
    "        tsv_writer.writerow([a, b, c])"
   ]
  }
 ],
 "metadata": {
  "kernelspec": {
   "display_name": "Python 3",
   "language": "python",
   "name": "python3"
  },
  "language_info": {
   "codemirror_mode": {
    "name": "ipython",
    "version": 3
   },
   "file_extension": ".py",
   "mimetype": "text/x-python",
   "name": "python",
   "nbconvert_exporter": "python",
   "pygments_lexer": "ipython3",
   "version": "3.5.7"
  }
 },
 "nbformat": 4,
 "nbformat_minor": 2
}
